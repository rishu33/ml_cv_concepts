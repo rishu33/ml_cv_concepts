{
 "cells": [
  {
   "cell_type": "markdown",
   "id": "d488dc4f",
   "metadata": {},
   "source": [
    "# Basics - Different Regression and Classification Models"
   ]
  },
  {
   "cell_type": "code",
   "execution_count": 1,
   "id": "ab329eae",
   "metadata": {},
   "outputs": [
    {
     "name": "stdout",
     "output_type": "stream",
     "text": [
      "[1.5]\n"
     ]
    }
   ],
   "source": [
    "#Linear Regression\n",
    "\n",
    "from sklearn import linear_model\n",
    "x = [[0,0],[1,1],[2,2]]\n",
    "y = [0,1,2]\n",
    "model = linear_model.LinearRegression()\n",
    "model.fit(x,y)\n",
    "xt = [[1.5,1.5]]\n",
    "yt = model.predict(xt)\n",
    "print(yt)"
   ]
  },
  {
   "cell_type": "code",
   "execution_count": 2,
   "id": "8b8bcfb1",
   "metadata": {},
   "outputs": [
    {
     "name": "stdout",
     "output_type": "stream",
     "text": [
      "['A']\n",
      "['B']\n"
     ]
    }
   ],
   "source": [
    "#Logistic Regression\n",
    "\n",
    "from sklearn import linear_model\n",
    "x = [[0,0],[1,1],[2,2]]\n",
    "y = ['A','A','B']\n",
    "model = linear_model.LogisticRegression()\n",
    "model.fit(x,y)\n",
    "xt1 = [[0.5,0.5]]\n",
    "yt1 = model.predict(xt1)\n",
    "print(yt1)\n",
    "xt2 = [[3,3]]\n",
    "yt2 = model.predict(xt2)\n",
    "print(yt2)"
   ]
  },
  {
   "cell_type": "code",
   "execution_count": 3,
   "id": "53454a95",
   "metadata": {},
   "outputs": [
    {
     "name": "stdout",
     "output_type": "stream",
     "text": [
      "[0]\n"
     ]
    }
   ],
   "source": [
    "#KNN Classification\n",
    "\n",
    "import sklearn.neighbors\n",
    "\n",
    "x = [[0],[1],[2],[3],[4]]\n",
    "y = [0,0,0,1,1]\n",
    "model = sklearn.neighbors.KNeighborsClassifier()\n",
    "model.fit(x,y)\n",
    "xt = [[1.5]]\n",
    "yt = model.predict(xt)\n",
    "print(yt)"
   ]
  },
  {
   "cell_type": "code",
   "execution_count": 4,
   "id": "117dbbc5",
   "metadata": {},
   "outputs": [
    {
     "name": "stdout",
     "output_type": "stream",
     "text": [
      "[1]\n"
     ]
    }
   ],
   "source": [
    "#Decision Tree Classifier\n",
    "\n",
    "from sklearn import tree\n",
    "x = [[0],[1],[2],[3],[4]]\n",
    "y = [0,0,0,1,1]\n",
    "model = tree.DecisionTreeClassifier()\n",
    "model.fit(x,y)\n",
    "xt = [[3.2]]\n",
    "yt = model.predict(xt)\n",
    "print(yt)"
   ]
  },
  {
   "cell_type": "code",
   "execution_count": 5,
   "id": "165c813f",
   "metadata": {},
   "outputs": [
    {
     "name": "stdout",
     "output_type": "stream",
     "text": [
      "[1]\n"
     ]
    }
   ],
   "source": [
    "#Bayes Classifier\n",
    "\n",
    "from sklearn.naive_bayes import GaussianNB\n",
    "\n",
    "x = [[0],[1],[2],[3],[4]]\n",
    "y = [0,0,0,1,1]\n",
    "model = GaussianNB()\n",
    "model.fit(x,y)\n",
    "xt = [[2.6]]\n",
    "yt = model.predict(xt)\n",
    "print(yt)"
   ]
  },
  {
   "cell_type": "code",
   "execution_count": 6,
   "id": "5a730681",
   "metadata": {},
   "outputs": [
    {
     "name": "stdout",
     "output_type": "stream",
     "text": [
      "[0.55705612]\n"
     ]
    },
    {
     "name": "stderr",
     "output_type": "stream",
     "text": [
      "C:\\Users\\areas\\anaconda3\\lib\\site-packages\\sklearn\\neural_network\\_multilayer_perceptron.py:614: ConvergenceWarning: Stochastic Optimizer: Maximum iterations (1000) reached and the optimization hasn't converged yet.\n",
      "  warnings.warn(\n"
     ]
    }
   ],
   "source": [
    "#Neural Network Regression\n",
    "\n",
    "from sklearn.neural_network import MLPRegressor\n",
    "x = [[0,0],[1,1],[2,2]]\n",
    "y = [0,1,2]\n",
    "model = MLPRegressor(hidden_layer_sizes=(2,1,), max_iter = 1000)\n",
    "model.fit(x,y)\n",
    "xt = [[1.2,1.2]]\n",
    "yt = model.predict(xt)\n",
    "print(yt)"
   ]
  },
  {
   "cell_type": "code",
   "execution_count": 7,
   "id": "cf47163d",
   "metadata": {},
   "outputs": [
    {
     "name": "stdout",
     "output_type": "stream",
     "text": [
      "0.5\n"
     ]
    }
   ],
   "source": [
    "#Calculating R2 Score\n",
    "\n",
    "from sklearn.metrics import r2_score\n",
    "y = [1,2,3]\n",
    "y_predict = [1,2,4]\n",
    "my_r2_score = r2_score(y,y_predict)\n",
    "\n",
    "print(my_r2_score)"
   ]
  },
  {
   "cell_type": "code",
   "execution_count": 8,
   "id": "d013436c",
   "metadata": {},
   "outputs": [
    {
     "data": {
      "text/plain": [
       "<matplotlib.collections.PathCollection at 0x146c80824f0>"
      ]
     },
     "execution_count": 8,
     "metadata": {},
     "output_type": "execute_result"
    },
    {
     "data": {
      "image/png": "[encoded data removed]",
      "text/plain": [
       "<Figure size 432x288 with 1 Axes>"
      ]
     },
     "metadata": {
      "needs_background": "light"
     },
     "output_type": "display_data"
    }
   ],
   "source": [
    "#K means clustering\n",
    "\n",
    "#Loading Data\n",
    "from sklearn import datasets\n",
    "import numpy as np\n",
    "\n",
    "x,y = datasets.make_blobs(n_samples=2000, random_state = 45)\n",
    "\n",
    "#Clustering\n",
    "from sklearn.cluster import KMeans\n",
    "kmeans = KMeans(n_clusters = 3, random_state = 42)\n",
    "kmeans.fit(x)\n",
    "predicted_clusters = kmeans.labels_\n",
    "\n",
    "#plot\n",
    "from matplotlib import pyplot as plt\n",
    "c = [{0:'b',1:'g',2:'r'}[c] for c in predicted_clusters]\n",
    "plt.scatter(x[:,0],x[:,1],c=c)"
   ]
  }
 ],
 "metadata": {
  "kernelspec": {
   "display_name": "Python 3 (ipykernel)",
   "language": "python",
   "name": "python3"
  },
  "language_info": {
   "codemirror_mode": {
    "name": "ipython",
    "version": 3
   },
   "file_extension": ".py",
   "mimetype": "text/x-python",
   "name": "python",
   "nbconvert_exporter": "python",
   "pygments_lexer": "ipython3",
   "version": "3.9.7"
  }
 },
 "nbformat": 4,
 "nbformat_minor": 5
}
