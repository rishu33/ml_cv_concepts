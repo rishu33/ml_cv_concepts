{
 "cells": [
  {
   "cell_type": "markdown",
   "id": "c411d2c7",
   "metadata": {},
   "source": [
    "# Neural Network Basics"
   ]
  },
  {
   "cell_type": "markdown",
   "id": "0996c8b6",
   "metadata": {},
   "source": [
    "### Understanding Single Neurons"
   ]
  },
  {
   "cell_type": "code",
   "execution_count": 5,
   "id": "9fa906e6",
   "metadata": {},
   "outputs": [
    {
     "name": "stdout",
     "output_type": "stream",
     "text": [
      "2.3\n"
     ]
    }
   ],
   "source": [
    "inputs = [1, 2, 3]\n",
    "weights = [0.2, 0.8, -0.5]\n",
    "bias = 2\n",
    "\n",
    "output = inputs[0]*weights[0] + inputs[1]*weights[1] + inputs[2]*weights[2] + bias\n",
    "print(output)"
   ]
  },
  {
   "cell_type": "code",
   "execution_count": 6,
   "id": "a262f953",
   "metadata": {},
   "outputs": [
    {
     "name": "stdout",
     "output_type": "stream",
     "text": [
      "4.8\n"
     ]
    }
   ],
   "source": [
    "inputs = [1, 2, 3, 2.5]\n",
    "weights = [0.2, 0.8, -0.5, 1.0]\n",
    "bias = 2\n",
    "\n",
    "output = inputs[0]*weights[0] + inputs[1]*weights[1] + inputs[2]*weights[2] + inputs[3]*weights[3] + bias\n",
    "print(output)"
   ]
  },
  {
   "cell_type": "markdown",
   "id": "2f125d55",
   "metadata": {},
   "source": [
    "### Understanding Multiple Neurons"
   ]
  },
  {
   "cell_type": "code",
   "execution_count": 7,
   "id": "a1924fcf",
   "metadata": {},
   "outputs": [
    {
     "name": "stdout",
     "output_type": "stream",
     "text": [
      "[4.8, 1.21, 2.385]\n"
     ]
    }
   ],
   "source": [
    "#say we have 4 inputs and 3 outputs\n",
    "inputs = [1, 2, 3, 2.5]\n",
    "weights1 = [0.2, 0.8, -0.5, 1.0]\n",
    "weights2 = [0.5, -0.91, 0.26, -0.5]\n",
    "weights3 = [-0.26, -0.27, 0.17, 0.87]\n",
    "bias1 = 2\n",
    "bias2 = 3\n",
    "bias3 = 0.5\n",
    "\n",
    "output = [inputs[0]*weights1[0] + inputs[1]*weights1[1] + inputs[2]*weights1[2] + inputs[3]*weights1[3] + bias1,\n",
    "         inputs[0]*weights2[0] + inputs[1]*weights2[1] + inputs[2]*weights2[2] + inputs[3]*weights2[3] + bias2,\n",
    "         inputs[0]*weights3[0] + inputs[1]*weights3[1] + inputs[2]*weights3[2] + inputs[3]*weights3[3] + bias3,]\n",
    "print(output)"
   ]
  },
  {
   "cell_type": "code",
   "execution_count": 10,
   "id": "62200cd8",
   "metadata": {},
   "outputs": [
    {
     "name": "stdout",
     "output_type": "stream",
     "text": [
      "[4.8, 1.21, 2.385]\n"
     ]
    }
   ],
   "source": [
    "#Better way - 4 inputs and 3 outputs\n",
    "inputs = [1, 2, 3, 2.5]\n",
    "weights = [[0.2, 0.8, -0.5, 1.0],[0.5, -0.91, 0.26, -0.5],[-0.26, -0.27, 0.17, 0.87]]\n",
    "biases = [2,3,0.5]\n",
    "\n",
    "layer_outputs = [] #output of current layer\n",
    "for neuron_weights, neuron_bias in zip(weights,biases):\n",
    "    neuron_output = 0 #output of given neuron\n",
    "    for n_input, weight in zip(inputs, neuron_weights):\n",
    "        neuron_output += n_input*weight\n",
    "    neuron_output += neuron_bias\n",
    "    layer_outputs.append(neuron_output)\n",
    "\n",
    "print(layer_outputs)"
   ]
  },
  {
   "cell_type": "markdown",
   "id": "8c37ea8e",
   "metadata": {},
   "source": [
    "### Understanding and Adding Numpy"
   ]
  },
  {
   "cell_type": "code",
   "execution_count": 11,
   "id": "d381e65a",
   "metadata": {},
   "outputs": [
    {
     "name": "stdout",
     "output_type": "stream",
     "text": [
      "4.8\n"
     ]
    }
   ],
   "source": [
    "import numpy as np\n",
    "#single neuron\n",
    "inputs = [1, 2, 3, 2.5]\n",
    "weights = [0.2, 0.8, -0.5, 1.0]\n",
    "bias = 2\n",
    "\n",
    "output = np.dot(weights, inputs) + bias\n",
    "print(output)"
   ]
  },
  {
   "cell_type": "code",
   "execution_count": 16,
   "id": "3efd91eb",
   "metadata": {},
   "outputs": [
    {
     "name": "stdout",
     "output_type": "stream",
     "text": [
      "[4.8   1.21  2.385]\n"
     ]
    }
   ],
   "source": [
    "#single layer with 3 neurons\n",
    "inputs = [1, 2, 3, 2.5]\n",
    "weights = [[0.2, 0.8, -0.5, 1.0],[0.5, -0.91, 0.26, -0.5],[-0.26, -0.27, 0.17, 0.87]]\n",
    "biases = [2,3,0.5]\n",
    "\n",
    "output = np.dot(weights, inputs) + biases #weights first coz that defines the shape of o/p of np.dot (similar to A.B = A(B.T))\n",
    "print(output)"
   ]
  },
  {
   "cell_type": "markdown",
   "id": "a5b57037",
   "metadata": {},
   "source": [
    "### Understanding Batches/Batch Input\n"
   ]
  },
  {
   "cell_type": "code",
   "execution_count": 23,
   "id": "6a2b6ae5",
   "metadata": {},
   "outputs": [
    {
     "name": "stdout",
     "output_type": "stream",
     "text": [
      "[[ 4.8    1.21   2.385]\n",
      " [ 8.9   -1.81   0.2  ]\n",
      " [ 1.41   1.051  0.026]]\n"
     ]
    }
   ],
   "source": [
    "#To train faster\n",
    "#Why not whole batch at once - to prevent overfit. To allow to fit to only subset of data. Helps in generalization.\n",
    "\n",
    "inputs = [[1, 2, 3, 2.5],[2.0, 5.0, -1.0, 2.0],[-1.5, 2.7, 3.3, -0.8]]\n",
    "weights = [[0.2, 0.8, -0.5, 1.0],[0.5, -0.91, 0.26, -0.5],[-0.26, -0.27, 0.17, 0.87]]\n",
    "biases = [2,3,0.5]\n",
    "\n",
    "output = np.dot(inputs, np.array(weights).T) + biases\n",
    "print(output)\n",
    "\n",
    "#In the output (3X3)\n",
    "#3 Rows represent 3 Outputs corresponding to 3 Inputs\n",
    "#3 Columns represent 3 neurons"
   ]
  },
  {
   "cell_type": "markdown",
   "id": "2cdb9c76",
   "metadata": {},
   "source": [
    "### Adding Another Layer"
   ]
  },
  {
   "cell_type": "code",
   "execution_count": 26,
   "id": "61ed8aa2",
   "metadata": {},
   "outputs": [
    {
     "name": "stdout",
     "output_type": "stream",
     "text": [
      "[[ 0.5031  -1.04185 -2.03875]\n",
      " [ 0.2434  -2.7332  -5.7633 ]\n",
      " [-0.99314  1.41254 -0.35655]]\n"
     ]
    }
   ],
   "source": [
    "inputs = [[1, 2, 3, 2.5],[2.0, 5.0, -1.0, 2.0],[-1.5, 2.7, 3.3, -0.8]]\n",
    "\n",
    "weights = [[0.2, 0.8, -0.5, 1.0],[0.5, -0.91, 0.26, -0.5],[-0.26, -0.27, 0.17, 0.87]]\n",
    "biases = [2,3,0.5]\n",
    "\n",
    "weights2 = [[0.1, -0.14, 0.5],[-0.5, 0.12, -0.33],[-0.44, 0.73, -0.13]] #3 weights for each neuron cos 3D output of previous layer\n",
    "biases2 = [-1,2,-0.5]\n",
    "\n",
    "layer1_output = np.dot(inputs, np.array(weights).T) + biases\n",
    "\n",
    "layer2_output = np.dot(layer1_output, np.array(weights2).T) + biases2\n",
    "\n",
    "print(layer2_output)"
   ]
  },
  {
   "cell_type": "code",
   "execution_count": 11,
   "id": "77e22583",
   "metadata": {},
   "outputs": [
    {
     "name": "stdout",
     "output_type": "stream",
     "text": [
      "[[ 0.10758131  1.03983522  0.24462411  0.31821498  0.18851053]\n",
      " [-0.08349796  0.70846411  0.00293357  0.44701525  0.36360538]\n",
      " [-0.50763245  0.55688422  0.07987797 -0.34889573  0.04553042]]\n",
      "[[ 0.148296   -0.08397602]\n",
      " [ 0.14100315 -0.01340469]\n",
      " [ 0.20124979 -0.07290616]]\n"
     ]
    }
   ],
   "source": [
    "#instead convert everything to an object\n",
    "\n",
    "X = [[1, 2, 3, 2.5],[2.0, 5.0, -1.0, 2.0],[-1.5, 2.7, 3.3, -0.8]]  #just changing inputs name to X (common notation)\n",
    "\n",
    "import numpy as np\n",
    "np.random.seed(0)\n",
    "\n",
    "class Layer_Dense:\n",
    "    def __init__(self, n_inputs, n_neurons):\n",
    "        self.weights = np.random.randn(n_inputs, n_neurons) * 0.1  #because when some values are above 1 #we take inputsXneurons so that we don't need to take transpose of weights later on\n",
    "        self.baises = np.zeros((1,n_neurons))  #remember when we represented number of neurons with number of columns\n",
    "    def forward(self, inputs):\n",
    "        self.output = np.dot(inputs, self.weights) + self.baises\n",
    "\n",
    "        \n",
    "#creating object of above class\n",
    "layer1 = Layer_Dense(4,5)\n",
    "\n",
    "#another object\n",
    "layer2 = Layer_Dense(5,2)\n",
    "\n",
    "layer1.forward(X)\n",
    "print(layer1.output)\n",
    "\n",
    "layer2.forward(layer1.output)\n",
    "print(layer2.output)"
   ]
  },
  {
   "cell_type": "markdown",
   "id": "a282f431",
   "metadata": {},
   "source": [
    "### Using Activation Functions"
   ]
  },
  {
   "cell_type": "code",
   "execution_count": 18,
   "id": "1d6a8fca",
   "metadata": {},
   "outputs": [
    {
     "name": "stdout",
     "output_type": "stream",
     "text": [
      "[0, 2, 0, 3.3, 0, 1.1, 2.2, 0]\n",
      "[0, 2, 0, 3.3, 0, 1.1, 2.2, 0]\n"
     ]
    }
   ],
   "source": [
    "#Understanding ReLU Activation Function\n",
    "\n",
    "inputs = [0, 2, -1, 3.3, -2.7, 1.1, 2.2, -100]\n",
    "output1 = []\n",
    "output2 = []\n",
    "\n",
    "for i in inputs:\n",
    "    if i>0:\n",
    "        output1.append(i)\n",
    "    elif i<=0:\n",
    "        output1.append(0)\n",
    "\n",
    "for i in inputs:\n",
    "    output2.append(max(0,i))\n",
    "        \n",
    "print(output1)\n",
    "print(output2)"
   ]
  },
  {
   "cell_type": "code",
   "execution_count": 29,
   "id": "eb4703a5",
   "metadata": {},
   "outputs": [
    {
     "data": {
      "image/png": "[encoded data removed]",
      "text/plain": [
       "<Figure size 432x288 with 1 Axes>"
      ]
     },
     "metadata": {
      "needs_background": "light"
     },
     "output_type": "display_data"
    }
   ],
   "source": [
    "#Creating random data\n",
    "\n",
    "import matplotlib.pyplot as plt\n",
    "\n",
    "def create_data(points, classes):\n",
    "    X = np.zeros((points*classes, 2))\n",
    "    y = np.zeros(points*classes, dtype='uint8')\n",
    "    for class_number in range(classes):\n",
    "        ix = range(points*class_number, points*(class_number+1))\n",
    "        r = np.linspace(0.0, 1, points)\n",
    "        t = np.linspace(class_number*4, (class_number+1)*4, points) + np.random.randn(points)*0.2\n",
    "        X[ix] = np.c_[r*np.sin(t*2.5), r*np.cos(t*2.5)]\n",
    "        y[ix] = class_number\n",
    "    return X,y\n",
    "\n",
    "X,y = create_data(100,3)\n",
    "# print(X)\n",
    "# print(y)\n",
    "plt.scatter(X[:, 0], X[:, 1], c=y)\n",
    "plt.show()"
   ]
  },
  {
   "cell_type": "code",
   "execution_count": 40,
   "id": "41cb1234",
   "metadata": {},
   "outputs": [
    {
     "name": "stdout",
     "output_type": "stream",
     "text": [
      "[[0.00000000e+00 0.00000000e+00 0.00000000e+00 0.00000000e+00\n",
      "  0.00000000e+00]\n",
      " [0.00000000e+00 0.00000000e+00 0.00000000e+00 4.65504526e-04\n",
      "  4.56845892e-05]\n",
      " [0.00000000e+00 5.93467943e-05 0.00000000e+00 2.03573189e-04\n",
      "  6.10024276e-04]\n",
      " ...\n",
      " [1.13291515e-01 0.00000000e+00 0.00000000e+00 8.11079627e-02\n",
      "  0.00000000e+00]\n",
      " [1.34588354e-01 0.00000000e+00 3.09493973e-02 5.66337522e-02\n",
      "  0.00000000e+00]\n",
      " [1.07817915e-01 0.00000000e+00 0.00000000e+00 8.72561871e-02\n",
      "  0.00000000e+00]]\n"
     ]
    }
   ],
   "source": [
    "#Generating output through Neural Network using above input data\n",
    "\n",
    "import numpy as np\n",
    "np.random.seed(0)\n",
    "\n",
    "#Creating Data\n",
    "\n",
    "def create_data(points, classes):\n",
    "    X = np.zeros((points*classes, 2))\n",
    "    y = np.zeros(points*classes, dtype='uint8')\n",
    "    for class_number in range(classes):\n",
    "        ix = range(points*class_number, points*(class_number+1))\n",
    "        r = np.linspace(0.0, 1, points)\n",
    "        t = np.linspace(class_number*4, (class_number+1)*4, points) + np.random.randn(points)*0.2\n",
    "        X[ix] = np.c_[r*np.sin(t*2.5), r*np.cos(t*2.5)]\n",
    "        y[ix] = class_number\n",
    "    return X,y\n",
    "\n",
    "class Layer_Dense:\n",
    "    def __init__(self, n_inputs, n_neurons):\n",
    "        self.weights = np.random.randn(n_inputs, n_neurons) * 0.1  #because when some values are above 1 #we take inputsXneurons so that we don't need to take transpose of weights later on\n",
    "        self.baises = np.zeros((1,n_neurons))  #remember when we represented number of neurons with number of columns\n",
    "    def forward(self, inputs):\n",
    "        self.output = np.dot(inputs, self.weights) + self.baises\n",
    "\n",
    "class Activation_ReLU:\n",
    "    def forward(self, inputs):\n",
    "        self.output = np.maximum(0,inputs)\n",
    "        \n",
    "X,y = create_data(100,3)\n",
    "\n",
    "#creating object of above class\n",
    "layer1 = Layer_Dense(2,5)\n",
    "layer1.forward(X)\n",
    "\n",
    "activation1 = Activation_ReLU()\n",
    "activation1.forward(layer1.output)\n",
    "\n",
    "print(activation1.output)\n",
    "\n",
    "# can add another layer\n",
    "\n",
    "# layer2 = Layer_Dense(5,2)\n",
    "# layer2.forward(activation1.output)\n",
    "# activation2 = Activation_ReLU()\n",
    "# activation2.forward(layer2.output)\n",
    "# print(activation2.output)"
   ]
  },
  {
   "cell_type": "code",
   "execution_count": 47,
   "id": "d33ed1c0",
   "metadata": {},
   "outputs": [
    {
     "name": "stdout",
     "output_type": "stream",
     "text": [
      "[0.020848118342447427, 0.1540479159894891, 0.007669594125295656, 0.5652475047939215, 0.0014011084828631612, 0.062631208787595, 0.18815454947838817, 7.755658419097841e-46]\n",
      "1.0\n"
     ]
    }
   ],
   "source": [
    "#Understanding Exponential Activation Function\n",
    "\n",
    "import math\n",
    "E = math.e\n",
    "\n",
    "inputs = [0, 2, -1, 3.3, -2.7, 1.1, 2.2, -100]\n",
    "output = []\n",
    "\n",
    "for i in inputs:\n",
    "    output.append(E**i)\n",
    "\n",
    "#now normalizing these exponential values\n",
    "\n",
    "norm_base = sum(output)\n",
    "norm_values = []\n",
    "\n",
    "for value in output:\n",
    "    norm_values.append(value/norm_base)\n",
    "\n",
    "print(norm_values)\n",
    "print(sum(norm_values)) #sum of normalized values must be 1"
   ]
  },
  {
   "cell_type": "code",
   "execution_count": 53,
   "id": "14b80282",
   "metadata": {},
   "outputs": [
    {
     "name": "stdout",
     "output_type": "stream",
     "text": [
      "[2.08481183e-02 1.54047916e-01 7.66959413e-03 5.65247505e-01\n",
      " 1.40110848e-03 6.26312088e-02 1.88154549e-01 7.75565842e-46]\n",
      "1.0\n"
     ]
    }
   ],
   "source": [
    "#Converting above Exponential Activation function to Numpy\n",
    "# NOTE : The combination of this Exponentiation and Normalization is called SOFTMAX Function\n",
    "\n",
    "import math\n",
    "import numpy as np\n",
    "\n",
    "E = math.e\n",
    "\n",
    "inputs = [0, 2, -1, 3.3, -2.7, 1.1, 2.2, -100]\n",
    "output = np.exp(inputs)\n",
    "\n",
    "#now normalizing these exponential values\n",
    "\n",
    "norm_values = output/(np.sum(output))\n",
    "\n",
    "print(norm_values)\n",
    "print(np.sum(norm_values))"
   ]
  },
  {
   "cell_type": "code",
   "execution_count": 61,
   "id": "a1f2f75a",
   "metadata": {},
   "outputs": [
    {
     "name": "stdout",
     "output_type": "stream",
     "text": [
      "[[8.95282664e-01 2.47083068e-02 8.00090293e-02]\n",
      " [9.99811129e-01 2.23163963e-05 1.66554348e-04]\n",
      " [5.13097164e-01 3.58333899e-01 1.28568936e-01]]\n"
     ]
    }
   ],
   "source": [
    "#Converting above to batch Input\n",
    "\n",
    "import numpy as np\n",
    "\n",
    "inputs = [[4.8, 1.21, 2.385],\n",
    "          [8.9, -1.81, 0.2],\n",
    "          [1.41, 1.051, 0.026]]\n",
    "\n",
    "output = np.exp(inputs)\n",
    "\n",
    "#now normalizing these exponential values\n",
    "\n",
    "norm_values = output/np.sum(output, axis = 1, keepdims=True) #axis1 = sum of elements row wise, keepdimsTrue = give output also row wise\n",
    "\n",
    "print(norm_values)"
   ]
  },
  {
   "cell_type": "markdown",
   "id": "d226e2ce",
   "metadata": {},
   "source": [
    "NOTE:  The exponential values can get very high and go beyond bounds. Hence we subtract the largest number from the input data from all the data.\n",
    "This gives all the data with max data value 0.\n",
    "This gives max exponential value = 1.\n",
    "Hence the exponential value of the data is reduced to the range (0,1)."
   ]
  },
  {
   "cell_type": "markdown",
   "id": "b3138bbf",
   "metadata": {},
   "source": [
    "With above implementation of subtraction of largest value. We eliminate the overflow error and still the result after Softmax will be same as original data."
   ]
  },
  {
   "cell_type": "code",
   "execution_count": 64,
   "id": "07fb6467",
   "metadata": {},
   "outputs": [
    {
     "name": "stdout",
     "output_type": "stream",
     "text": [
      "[[0.33333333 0.33333333 0.33333333]\n",
      " [0.33331734 0.33331832 0.33336434]\n",
      " [0.3332888  0.33329153 0.33341967]\n",
      " [0.33325941 0.33326395 0.33347665]\n",
      " [0.33323311 0.33323926 0.33352763]]\n"
     ]
    }
   ],
   "source": [
    "#Using Softmax Activation function in Neural Network + Subtraction method on Input data\n",
    "\n",
    "import numpy as np\n",
    "np.random.seed(0)\n",
    "\n",
    "#Creating Data\n",
    "\n",
    "def create_data(points, classes):\n",
    "    X = np.zeros((points*classes, 2))\n",
    "    y = np.zeros(points*classes, dtype='uint8')\n",
    "    for class_number in range(classes):\n",
    "        ix = range(points*class_number, points*(class_number+1))\n",
    "        r = np.linspace(0.0, 1, points)\n",
    "        t = np.linspace(class_number*4, (class_number+1)*4, points) + np.random.randn(points)*0.2\n",
    "        X[ix] = np.c_[r*np.sin(t*2.5), r*np.cos(t*2.5)]\n",
    "        y[ix] = class_number\n",
    "    return X,y\n",
    "\n",
    "class Layer_Dense:\n",
    "    def __init__(self, n_inputs, n_neurons):\n",
    "        self.weights = np.random.randn(n_inputs, n_neurons) * 0.1  #because when some values are above 1 #we take inputsXneurons so that we don't need to take transpose of weights later on\n",
    "        self.baises = np.zeros((1,n_neurons))  #remember when we represented number of neurons with number of columns\n",
    "    def forward(self, inputs):\n",
    "        self.output = np.dot(inputs, self.weights) + self.baises\n",
    "\n",
    "class Activation_ReLU:\n",
    "    def forward(self, inputs):\n",
    "        self.output = np.maximum(0,inputs)\n",
    "\n",
    "class Activation_Softmax:\n",
    "    def forward(self, inputs):\n",
    "        self.output = np.exp(inputs - np.max(inputs, axis = 1, keepdims=True))\n",
    "        self.output = self.output/np.sum(self.output, axis = 1, keepdims=True)\n",
    "\n",
    "        \n",
    "X,y = create_data(100,3)\n",
    "\n",
    "#creating object of above class\n",
    "layer1 = Layer_Dense(2,3)\n",
    "layer1.forward(X)\n",
    "\n",
    "activation1 = Activation_ReLU()\n",
    "activation1.forward(layer1.output)\n",
    "\n",
    "layer2 = Layer_Dense(3,3)\n",
    "layer2.forward(activation1.output)\n",
    "\n",
    "activation2 = Activation_Softmax()\n",
    "activation2.forward(layer2.output)\n",
    "\n",
    "print(activation2.output[:5]) #taking output of first 5 data points out of the total 100 data"
   ]
  },
  {
   "cell_type": "code",
   "execution_count": 68,
   "id": "1cb1d691",
   "metadata": {},
   "outputs": [
    {
     "name": "stdout",
     "output_type": "stream",
     "text": [
      "0.10536051565782628\n",
      "0.35667494393873245\n",
      "0.6931471805599453\n",
      "1.2039728043259361\n",
      "2.3025850929940455\n"
     ]
    }
   ],
   "source": [
    "#Understanding the -log function\n",
    "\n",
    "import math\n",
    "\n",
    "softmax_output = [0.7, 0.2, 0.1]\n",
    "target_class = 0\n",
    "target_output = [1, 0, 0]\n",
    "\n",
    "loss = -(math.log(softmax_output[0])*target_output[0]+\n",
    "         math.log(softmax_output[1])*target_output[1]+\n",
    "         math.log(softmax_output[2])*target_output[2])\n",
    "\n",
    "# print(loss)\n",
    "\n",
    "print(-math.log(0.9))\n",
    "print(-math.log(0.7))\n",
    "print(-math.log(0.5))\n",
    "print(-math.log(0.3))\n",
    "print(-math.log(0.1))\n",
    "\n",
    "#notice the pattern of -log function"
   ]
  },
  {
   "cell_type": "code",
   "execution_count": 73,
   "id": "a94e0a3c",
   "metadata": {},
   "outputs": [
    {
     "name": "stdout",
     "output_type": "stream",
     "text": [
      "0.38506088005216804\n"
     ]
    }
   ],
   "source": [
    "#Understanding the Loss Function - Categorical Cross Entropy Loss\n",
    "#Working with Softmax Output\n",
    "\n",
    "import numpy as np\n",
    "\n",
    "softmax_outputs = np.array([[0.7, 0.1, 0.2],\n",
    "                            [0.1, 0.5, 0.4],\n",
    "                            [0.02, 0.9, 0.08]])  #3 neuron outputs (column 1,2,3) for 3 data samples (row 1,2,3)\n",
    "\n",
    "class_targets = [0,1,1]  #True class of all 3 samples\n",
    "\n",
    "a = softmax_outputs[[0,1,2], class_targets]\n",
    "#OR\n",
    "a = softmax_outputs[range(len(softmax_outputs)), class_targets]\n",
    "\n",
    "\n",
    "#Calculating -log for losses\n",
    "loss = -np.log(a)\n",
    "# print(loss)\n",
    "\n",
    "#Calculating avg loss\n",
    "avg_loss = np.mean(loss)\n",
    "print(avg_loss)"
   ]
  },
  {
   "cell_type": "markdown",
   "id": "20449b89",
   "metadata": {},
   "source": [
    "NOTE : -log(0) is infinite. How to solve that problem?"
   ]
  },
  {
   "cell_type": "markdown",
   "id": "750465f4",
   "metadata": {},
   "source": [
    "To solve this, we clip the values to 1e-07 whose -log value is 16.11--- to (1 - 1e-07) whose -log value is 1."
   ]
  },
  {
   "cell_type": "code",
   "execution_count": 75,
   "id": "5dfed2be",
   "metadata": {},
   "outputs": [
    {
     "name": "stdout",
     "output_type": "stream",
     "text": [
      "[1.e-07 5.e-01 9.e-01]\n"
     ]
    }
   ],
   "source": [
    "a = [0, 0.5, 0.9]\n",
    "a = np.clip(a, 1e-7, 1 - 1e-7)\n",
    "print(a)"
   ]
  },
  {
   "cell_type": "code",
   "execution_count": 77,
   "id": "8fd0c785",
   "metadata": {},
   "outputs": [
    {
     "name": "stdout",
     "output_type": "stream",
     "text": [
      "1.0984449588022467\n"
     ]
    }
   ],
   "source": [
    "#Calculating Loss for a Neural Network for Batch Input\n",
    "\n",
    "import numpy as np\n",
    "np.random.seed(0)\n",
    "\n",
    "#Creating Data\n",
    "\n",
    "def create_data(points, classes):\n",
    "    X = np.zeros((points*classes, 2))\n",
    "    y = np.zeros(points*classes, dtype='uint8')\n",
    "    for class_number in range(classes):\n",
    "        ix = range(points*class_number, points*(class_number+1))\n",
    "        r = np.linspace(0.0, 1, points)\n",
    "        t = np.linspace(class_number*4, (class_number+1)*4, points) + np.random.randn(points)*0.2\n",
    "        X[ix] = np.c_[r*np.sin(t*2.5), r*np.cos(t*2.5)]\n",
    "        y[ix] = class_number\n",
    "    return X,y\n",
    "\n",
    "class Layer_Dense:\n",
    "    def __init__(self, n_inputs, n_neurons):\n",
    "        self.weights = np.random.randn(n_inputs, n_neurons) * 0.1  #because when some values are above 1 #we take inputsXneurons so that we don't need to take transpose of weights later on\n",
    "        self.baises = np.zeros((1,n_neurons))  #remember when we represented number of neurons with number of columns\n",
    "    def forward(self, inputs):\n",
    "        self.output = np.dot(inputs, self.weights) + self.baises\n",
    "\n",
    "class Activation_ReLU:\n",
    "    def forward(self, inputs):\n",
    "        self.output = np.maximum(0,inputs)\n",
    "\n",
    "class Activation_Softmax:\n",
    "    def forward(self, inputs):\n",
    "        self.output = np.exp(inputs - np.max(inputs, axis = 1, keepdims=True))\n",
    "        self.output = self.output/np.sum(self.output, axis = 1, keepdims=True)\n",
    "\n",
    "class Loss:\n",
    "    def calculate(self, output, y):  #output = predicted values after softmax, y = true values\n",
    "        sample_losses = self.forward(output, y)\n",
    "        data_loss = np.mean(sample_losses)\n",
    "        return data_loss\n",
    "\n",
    "class Loss_CategoricalCrossEntropy(Loss):\n",
    "    def forward(self, y_pred, y_true):\n",
    "        samples = len(y_pred)\n",
    "        y_pred_clipped = np.clip(y_pred, 1e-7, 1 - 1e-7)\n",
    "        #we need out program to work on both type of definition of true output. A.) Scalar target values = [1,0] , B.) OneHot Encoding type target values = [[0,1],[1,0]].  \n",
    "        \n",
    "        if len(y_true.shape) == 1: #means scalar target values are provided\n",
    "            correct_confidences = y_pred_clipped[range(samples), y_true]\n",
    "        elif len(y_true.shape) == 2:\n",
    "            correct_confidences = np.sum(y_pred_clipped*y_true, axis=1)\n",
    "        \n",
    "        negetive_log_likelihood = -np.log(correct_confidences)\n",
    "        return negetive_log_likelihood\n",
    "     \n",
    "            \n",
    "X,y = create_data(100,3)\n",
    "\n",
    "#creating object of above class\n",
    "layer1 = Layer_Dense(2,3)\n",
    "layer1.forward(X)\n",
    "\n",
    "activation1 = Activation_ReLU()\n",
    "activation1.forward(layer1.output)\n",
    "\n",
    "layer2 = Layer_Dense(3,3)\n",
    "layer2.forward(activation1.output)\n",
    "\n",
    "activation2 = Activation_Softmax()\n",
    "activation2.forward(layer2.output)\n",
    "\n",
    "loss_function = Loss_CategoricalCrossEntropy()\n",
    "loss = loss_function.calculate(activation2.output, y)\n",
    "\n",
    "\n",
    "print(loss) #taking output of first 5 data points out of the total 100 data"
   ]
  },
  {
   "cell_type": "code",
   "execution_count": 79,
   "id": "8f2e5bcd",
   "metadata": {},
   "outputs": [
    {
     "name": "stdout",
     "output_type": "stream",
     "text": [
      "1.0984449588022467\n"
     ]
    }
   ],
   "source": [
    "#Another way by combining both the Loss Classes\n",
    "\n",
    "import numpy as np\n",
    "np.random.seed(0)\n",
    "\n",
    "#Creating Data\n",
    "\n",
    "def create_data(points, classes):\n",
    "    X = np.zeros((points*classes, 2))\n",
    "    y = np.zeros(points*classes, dtype='uint8')\n",
    "    for class_number in range(classes):\n",
    "        ix = range(points*class_number, points*(class_number+1))\n",
    "        r = np.linspace(0.0, 1, points)\n",
    "        t = np.linspace(class_number*4, (class_number+1)*4, points) + np.random.randn(points)*0.2\n",
    "        X[ix] = np.c_[r*np.sin(t*2.5), r*np.cos(t*2.5)]\n",
    "        y[ix] = class_number\n",
    "    return X,y\n",
    "\n",
    "class Layer_Dense:\n",
    "    def __init__(self, n_inputs, n_neurons):\n",
    "        self.weights = np.random.randn(n_inputs, n_neurons) * 0.1  #because when some values are above 1 #we take inputsXneurons so that we don't need to take transpose of weights later on\n",
    "        self.baises = np.zeros((1,n_neurons))  #remember when we represented number of neurons with number of columns\n",
    "    def forward(self, inputs):\n",
    "        self.output = np.dot(inputs, self.weights) + self.baises\n",
    "\n",
    "class Activation_ReLU:\n",
    "    def forward(self, inputs):\n",
    "        self.output = np.maximum(0,inputs)\n",
    "\n",
    "class Activation_Softmax:\n",
    "    def forward(self, inputs):\n",
    "        self.output = np.exp(inputs - np.max(inputs, axis = 1, keepdims=True))\n",
    "        self.output = self.output/np.sum(self.output, axis = 1, keepdims=True)\n",
    "\n",
    "\n",
    "class Loss_CategoricalCrossEntropy(Loss):\n",
    "    def forward(self, y_pred, y_true):\n",
    "        samples = len(y_pred)\n",
    "        y_pred_clipped = np.clip(y_pred, 1e-7, 1 - 1e-7)\n",
    "        #we need out program to work on both type of definition of true output. A.) Scalar target values = [1,0] , B.) OneHot Encoding type target values = [[0,1],[1,0]].  \n",
    "        \n",
    "        if len(y_true.shape) == 1: #means scalar target values are provided\n",
    "            correct_confidences = y_pred_clipped[range(samples), y_true]\n",
    "        elif len(y_true.shape) == 2:\n",
    "            correct_confidences = np.sum(y_pred_clipped*y_true, axis=1)\n",
    "        \n",
    "        negetive_log_likelihood = -np.log(correct_confidences)\n",
    "        data_loss = np.mean(negetive_log_likelihood)\n",
    "        return data_loss\n",
    "            \n",
    "X,y = create_data(100,3)\n",
    "\n",
    "#creating object of above class\n",
    "layer1 = Layer_Dense(2,3)\n",
    "layer1.forward(X)\n",
    "\n",
    "activation1 = Activation_ReLU()\n",
    "activation1.forward(layer1.output)\n",
    "\n",
    "layer2 = Layer_Dense(3,3)\n",
    "layer2.forward(activation1.output)\n",
    "\n",
    "activation2 = Activation_Softmax()\n",
    "activation2.forward(layer2.output)\n",
    "\n",
    "loss_function = Loss_CategoricalCrossEntropy()\n",
    "loss = loss_function.calculate(activation2.output, y)\n",
    "\n",
    "\n",
    "print(loss)"
   ]
  },
  {
   "cell_type": "code",
   "execution_count": 81,
   "id": "695845d6",
   "metadata": {},
   "outputs": [
    {
     "name": "stdout",
     "output_type": "stream",
     "text": [
      "0.6666666666666666\n"
     ]
    }
   ],
   "source": [
    "#Calculating Accuracy\n",
    "\n",
    "softmax_outputs = np.array([[0.7, 0.1, 0.2],\n",
    "                            [0.1, 0.5, 0.4],\n",
    "                            [0.02, 0.9, 0.08]])  #3 neuron outputs (column 1,2,3) for 3 data samples (row 1,2,3)\n",
    "\n",
    "class_targets = [0,0,1]  #True class of all 3 samples\n",
    "\n",
    "class_predicted = np.argmax(softmax_outputs, axis=1)\n",
    "\n",
    "accuracy = np.mean(class_predicted == class_targets)\n",
    "print(accuracy)"
   ]
  },
  {
   "cell_type": "code",
   "execution_count": null,
   "id": "22612244",
   "metadata": {},
   "outputs": [],
   "source": []
  }
 ],
 "metadata": {
  "kernelspec": {
   "display_name": "Python 3 (ipykernel)",
   "language": "python",
   "name": "python3"
  },
  "language_info": {
   "codemirror_mode": {
    "name": "ipython",
    "version": 3
   },
   "file_extension": ".py",
   "mimetype": "text/x-python",
   "name": "python",
   "nbconvert_exporter": "python",
   "pygments_lexer": "ipython3",
   "version": "3.9.7"
  }
 },
 "nbformat": 4,
 "nbformat_minor": 5
}
