{
 "cells": [
  {
   "cell_type": "markdown",
   "id": "7b463c01",
   "metadata": {},
   "source": [
    "# Python Basics Commands"
   ]
  },
  {
   "cell_type": "markdown",
   "id": "73fc966d",
   "metadata": {},
   "source": [
    "What is Python ?\n",
    "\n",
    "Python is:\n",
    "\n",
    "    • General-purpose programming language\n",
    "    • Interpreted language\n",
    "    • Scripting language\n"
   ]
  },
  {
   "cell_type": "markdown",
   "id": "b9e69330",
   "metadata": {},
   "source": [
    "Set 1 : BASICS (Comments and printing Output)"
   ]
  },
  {
   "cell_type": "code",
   "execution_count": 1,
   "id": "c5a765ce",
   "metadata": {},
   "outputs": [
    {
     "name": "stdout",
     "output_type": "stream",
     "text": [
      "hello world\n",
      "what is your name? Rishu\n",
      "Oh Hi! Rishu\n"
     ]
    }
   ],
   "source": [
    "# comment\n",
    "\"\"\"\n",
    "multiline comment\n",
    "yeah!\n",
    "\"\"\"\n",
    "\n",
    "# just printing\n",
    "print(\"hello world\")\n",
    "\n",
    "# getting an input\n",
    "name = input(\"what is your name? \")\n",
    "\n",
    "# multiple printing\n",
    "print(\"Oh Hi!\", name)"
   ]
  },
  {
   "cell_type": "markdown",
   "id": "548a6345",
   "metadata": {},
   "source": [
    "Set 2 : BASICS (Variables and Variable conversion)"
   ]
  },
  {
   "cell_type": "code",
   "execution_count": 2,
   "id": "2fc255cd",
   "metadata": {},
   "outputs": [
    {
     "name": "stdout",
     "output_type": "stream",
     "text": [
      "I am a string and he said 'string'\n",
      "3 and 325252\n",
      "3.14 and 6.28\n",
      "True and False\n",
      "<class 'str'>\n",
      "<class 'int'>\n"
     ]
    }
   ],
   "source": [
    "# strings\n",
    "string_variable = \"I am a string\"\n",
    "string_variable_2 = \"he said 'string'\"\n",
    "print(string_variable, \"and\",string_variable_2)\n",
    "\n",
    "# int\n",
    "int_variable = 3\n",
    "int_variable_2 = 325252\n",
    "print(int_variable, \"and\",int_variable_2)\n",
    "\n",
    "# float\n",
    "float_variable = 3.14\n",
    "float_variable_2 = 6.28\n",
    "print(float_variable, \"and\",float_variable_2)\n",
    "\n",
    "# booleans\n",
    "boolean_variable = True\n",
    "boolean_variable_2 = False\n",
    "print(boolean_variable, \"and\",boolean_variable_2)\n",
    "\n",
    "\n",
    "var1 = \"3\"\n",
    "converted_var1 = int(var1)\n",
    "print(type(var1))\n",
    "print(type(converted_var1))"
   ]
  },
  {
   "cell_type": "markdown",
   "id": "795086b1",
   "metadata": {},
   "source": [
    "Set 3 : BASICS (Math Operations)"
   ]
  },
  {
   "cell_type": "code",
   "execution_count": 3,
   "id": "79780cc2",
   "metadata": {},
   "outputs": [
    {
     "name": "stdout",
     "output_type": "stream",
     "text": [
      "3\n",
      "-1\n",
      "4\n",
      "2.0\n",
      "2\n",
      "1\n",
      "8\n",
      "HaHaaHaHaaHaHaaHaHaaHaHaaHaHaaHaHaaHaHaaHaHaaHaHaa\n"
     ]
    }
   ],
   "source": [
    "result_1 = 1 + 2 # =3 addition\n",
    "result_2 = 1 - 2 # =-1 subtraction\n",
    "result_3 = 2 * 2 # =4 multiplication\n",
    "result_4 = 4 / 2 # =2.0 division\n",
    "result_5 = 7 // 3 # =1 floor division (removes the decimal part of result_4)\n",
    "result_6 = 7 % 3 # =1 modulus\n",
    "result_7 = 2 ** 3 # =8 to the power of\n",
    "result_8 = 10 * 'HaHaa' #long string\n",
    "\n",
    "print(result_1)\n",
    "print(result_2)\n",
    "print(result_3)\n",
    "print(result_4)\n",
    "print(result_5)\n",
    "print(result_6)\n",
    "print(result_7)\n",
    "print(result_8)"
   ]
  },
  {
   "cell_type": "markdown",
   "id": "0156fa35",
   "metadata": {},
   "source": [
    "NOTE : Operator precedence in Python\n",
    "We would have learned of the BODMAS rule in mathematics while giving preference to the operators. We have a similar rule in Python and that is PEMDAS. Where,\n",
    "\n",
    "    P means parentheses\n",
    "    E means exponent\n",
    "    M means multiplication\n",
    "    D means division\n",
    "    A means addition\n",
    "    S means Subtraction"
   ]
  },
  {
   "cell_type": "markdown",
   "id": "6b78eb69",
   "metadata": {},
   "source": [
    "Set 4 : BASICS (Lists, Tuple, Dictionaries, Sets)"
   ]
  },
  {
   "cell_type": "code",
   "execution_count": 4,
   "id": "adb696d7",
   "metadata": {},
   "outputs": [
    {
     "name": "stdout",
     "output_type": "stream",
     "text": [
      "[0, 0, 0, 0, 0]\n"
     ]
    }
   ],
   "source": [
    "# list (ordered and changeable)\n",
    "list_variable = [1,2,3]\n",
    "list_variable_2 = [\"a\",\"b\",\"c\",\"d\"]\n",
    "list_variable_3 = [1,2,\"d\",[1,2]]\n",
    "list_zeros = [0]*5\n",
    "\n",
    "print(list_zeros)\n",
    "\n",
    "# tuple (ordered and unchangeable)\n",
    "tuple_variable = (1,2,3)\n",
    "tuple_variable_2 = (1,\"f\",[1,2])\n",
    "\n",
    "# dictionaries (unordered, changeable and indexed)\n",
    "dict_variable = {\"a\":1,\"b\":2,\"c\":3}\n",
    "\n",
    "# set (unordered, changeable and unindexed)\n",
    "set_variable = {\"a\", \"b\", \"c\"} "
   ]
  },
  {
   "cell_type": "code",
   "execution_count": 5,
   "id": "c7af50b7",
   "metadata": {},
   "outputs": [
    {
     "name": "stdout",
     "output_type": "stream",
     "text": [
      "B\n",
      "C\n",
      "D\n",
      "A\n"
     ]
    }
   ],
   "source": [
    "#Set is unordered\n",
    "ratings = {'A', 'B', 'C', 'D'}\n",
    "for rate in ratings:\n",
    "  print(rate)"
   ]
  },
  {
   "cell_type": "code",
   "execution_count": 6,
   "id": "29880ad8",
   "metadata": {},
   "outputs": [
    {
     "name": "stdout",
     "output_type": "stream",
     "text": [
      "{3, 4, 5, 6, 7}\n",
      "Try statement did not run 'set' object is not subscriptable\n"
     ]
    }
   ],
   "source": [
    "#Set is unindexed\n",
    "a = {7, 6, 5, 4, 3, 4, 5, 6}\n",
    "print(a)\n",
    "\n",
    "try:\n",
    "    print(a[3])\n",
    "except Exception as e:\n",
    "    print('Try statement did not run',e)\n"
   ]
  },
  {
   "cell_type": "code",
   "execution_count": 7,
   "id": "a48ef521",
   "metadata": {},
   "outputs": [],
   "source": [
    "from sklearn.neighbors import KNeighborsClassifier"
   ]
  },
  {
   "cell_type": "code",
   "execution_count": 8,
   "id": "76861dc6",
   "metadata": {},
   "outputs": [
    {
     "name": "stdout",
     "output_type": "stream",
     "text": [
      "2\n"
     ]
    }
   ],
   "source": [
    "#Dictionaries are indexed\n",
    "b = {\"a\":3,\"a\":2,\"c\":3}\n",
    "print(b['a'])"
   ]
  },
  {
   "cell_type": "markdown",
   "id": "fc738086",
   "metadata": {},
   "source": [
    "Set 5 : BASICS (Lists in detail)"
   ]
  },
  {
   "cell_type": "code",
   "execution_count": 9,
   "id": "30cb8e05",
   "metadata": {},
   "outputs": [
    {
     "name": "stdout",
     "output_type": "stream",
     "text": [
      "a\n",
      "b\n",
      "4\n",
      "['b', 2]\n",
      "[0, 4, 3, 2, 'b', 'a']\n"
     ]
    }
   ],
   "source": [
    "a = [\"a\", \"b\", 2, 3, 4] \n",
    "\n",
    "# accessing elements\n",
    "print(a[0]) # \"a\"\n",
    "print(a[1]) # \"b\"\n",
    "print(a[-1]) # 4\n",
    "print(a[1:3]) # [\"b\",2] <----positions 1,2 are included, position 3 isn’t\n",
    "\n",
    "# modifying the contents of the list\n",
    "a.append(4) # [\"a\", \"b\", 2, 3, 4, 4]\n",
    "a.reverse() # [4, 4, 3, 2, \"b\", \"a“] \n",
    "a[0] = 0 # [0, 4, 3, 2, \"b\", \"a“] \n",
    "print(a)"
   ]
  },
  {
   "cell_type": "markdown",
   "id": "b06842cc",
   "metadata": {},
   "source": [
    "Set 6 : BASICS (Dictionaries in detail)"
   ]
  },
  {
   "cell_type": "code",
   "execution_count": 10,
   "id": "934fc417",
   "metadata": {},
   "outputs": [
    {
     "name": "stdout",
     "output_type": "stream",
     "text": [
      "2\n",
      "2\n",
      "dict_keys(['a', 'b'])\n",
      "dict_values([1, 2])\n",
      "{'b': 4, 'c': 3, 'd': 2}\n"
     ]
    }
   ],
   "source": [
    "# dict\n",
    "my_dict = {\"a\": 1, \"b\": 2}\n",
    "\n",
    "# accessing entries\n",
    "my_dict[\"a\"] # 1\n",
    "my_dict[\"b\"] # 2\n",
    "print(my_dict.get(\"b\")) # get the value of key 'b'\n",
    "print(my_dict.get(\"b\",5)) # get the value of key 'b', if no key 'b' is present then give the default value 5 \n",
    "\n",
    "print(my_dict.keys()) # iterable over all the keys\n",
    "print(my_dict.values()) # iterable over all the values\n",
    "\n",
    "# modifying contents of the dictionary\n",
    "del my_dict[\"a\"] # delete \"a\"\n",
    "my_dict[\"c\"] = 3 # add key-value pair\n",
    "my_dict.update({\"b\":4, \"d\":2}) # add and overwrite\n",
    "print(my_dict)"
   ]
  },
  {
   "cell_type": "markdown",
   "id": "3bf4b3b8",
   "metadata": {},
   "source": [
    "Set 7 : BASICS (Conditional checks in Print Statement)"
   ]
  },
  {
   "cell_type": "code",
   "execution_count": 11,
   "id": "5cf374c2",
   "metadata": {},
   "outputs": [
    {
     "name": "stdout",
     "output_type": "stream",
     "text": [
      "True\n",
      "False\n",
      "False\n",
      "True\n",
      "False\n",
      "True\n",
      "False\n",
      "True\n"
     ]
    }
   ],
   "source": [
    "x = 42\n",
    "\n",
    "print(x == 42) # equals, True\n",
    "print(x != 42) # not equal, False\n",
    "print(x > 42) # greater than, False\n",
    "print(x >= 42) # greater than or equal to, True\n",
    "print(x < 42) # less than, False\n",
    "print(x <= 42) # less than or equal to, True\n",
    "\n",
    "# you can combine several conditions\n",
    "print(x <= 42 and x > 42) # True*False = False\n",
    "print((x <= 42 and x > 42) or x == 42) # True"
   ]
  },
  {
   "cell_type": "markdown",
   "id": "b293cda2",
   "metadata": {},
   "source": [
    "Set 8 : BASICS (Conditional Statement : IF-ELSE)"
   ]
  },
  {
   "cell_type": "code",
   "execution_count": 12,
   "id": "1a83afcf",
   "metadata": {},
   "outputs": [
    {
     "name": "stdout",
     "output_type": "stream",
     "text": [
      "num is positive\n"
     ]
    }
   ],
   "source": [
    "num = 2\n",
    "\n",
    "if num < 0:\n",
    "    print(\"num is negative\")\n",
    "elif num == 0:\n",
    "    print(\"num is zero\")\n",
    "else:\n",
    "    print(\"num is positive\")\n"
   ]
  },
  {
   "cell_type": "markdown",
   "id": "bb8463d3",
   "metadata": {},
   "source": [
    "Set 8 : BASICS (Loops : WHILE & FOR)"
   ]
  },
  {
   "cell_type": "code",
   "execution_count": 13,
   "id": "8a804743",
   "metadata": {},
   "outputs": [
    {
     "name": "stdout",
     "output_type": "stream",
     "text": [
      "1\n",
      "2\n",
      "4\n",
      "8\n",
      "16\n"
     ]
    }
   ],
   "source": [
    "i = 1\n",
    "\n",
    "while i < 32:\n",
    "    print(i)\n",
    "    i = i * 2"
   ]
  },
  {
   "cell_type": "code",
   "execution_count": 14,
   "id": "6f437f65",
   "metadata": {},
   "outputs": [
    {
     "name": "stdout",
     "output_type": "stream",
     "text": [
      "1\n",
      "2\n",
      "4\n",
      "8\n",
      "16\n",
      "32\n"
     ]
    }
   ],
   "source": [
    "for k in range(0, 6): #defines how many times the loop should run [ONLY THAT, and NOT the value of i]\n",
    "    print(2**k) #start with k=0 until k=5, and print (2 to the power or k)"
   ]
  },
  {
   "cell_type": "markdown",
   "id": "e75bbecc",
   "metadata": {},
   "source": [
    "Set 9 : BASICS (Loops : Continue and Break keyword)"
   ]
  },
  {
   "cell_type": "code",
   "execution_count": 15,
   "id": "fdae9b85",
   "metadata": {},
   "outputs": [
    {
     "name": "stdout",
     "output_type": "stream",
     "text": [
      "you are  pepe\n",
      "you are  ann\n"
     ]
    }
   ],
   "source": [
    "# we can prematurely skip an iteration with continue\n",
    "names = [\"pepe\", \"jörg\", \"ann\"]\n",
    "\n",
    "for name in names:\n",
    "    if name == \"jörg\":\n",
    "        continue #skips that particular iteration where the above if condition is true\n",
    "    print(\"you are \", name)\n",
    "\n",
    "# you can prematurely terminate a loop with break\n",
    "for name in names:\n",
    "    if name == \"pepe\":\n",
    "        break #skips ALL the iterations following that particular iteration where the above if is true\n",
    "    print(\"you are \", name)\n"
   ]
  },
  {
   "cell_type": "markdown",
   "id": "73f57e78",
   "metadata": {},
   "source": [
    "Set 10 : BASICS (Playing with Lists)"
   ]
  },
  {
   "cell_type": "code",
   "execution_count": 16,
   "id": "a89ed561",
   "metadata": {},
   "outputs": [
    {
     "name": "stdout",
     "output_type": "stream",
     "text": [
      "[2, 3, 4, 5, 6]\n",
      "[2, 3, 5, 6]\n",
      "[2, 3, 5, 6]\n"
     ]
    }
   ],
   "source": [
    "# list comprehension\n",
    "list_1 = [1,2,3,4,5]\n",
    "\n",
    "new_list = [i+1 for i in list_1]\n",
    "print(new_list)\n",
    "\n",
    "# list comprehension vs for loop:\n",
    "new_list_2 = [i+1 for i in list_1 if i != 3]\n",
    "print(new_list_2)\n",
    "\n",
    "# above and below do the same\n",
    "new_list_3 = []\n",
    "for i in list_1:\n",
    "    if i != 3:\n",
    "        new_list_3.append(i+1)\n",
    "print(new_list_3)"
   ]
  },
  {
   "cell_type": "markdown",
   "id": "7016b222",
   "metadata": {},
   "source": [
    "Set 11 : BASICS (Try - Except Statement)"
   ]
  },
  {
   "cell_type": "code",
   "execution_count": 17,
   "id": "3f938a90",
   "metadata": {},
   "outputs": [
    {
     "name": "stdout",
     "output_type": "stream",
     "text": [
      "my program broke: division by zero\n"
     ]
    }
   ],
   "source": [
    "# try-except\n",
    "try:\n",
    "    result = 1 / 0\n",
    "except Exception as e:\n",
    "    print(\"my program broke:\", e)"
   ]
  },
  {
   "cell_type": "markdown",
   "id": "7a59e805",
   "metadata": {},
   "source": [
    "Set 12 : BASICS (Functions)"
   ]
  },
  {
   "cell_type": "code",
   "execution_count": 18,
   "id": "b4c5176c",
   "metadata": {},
   "outputs": [
    {
     "name": "stdout",
     "output_type": "stream",
     "text": [
      "9\n"
     ]
    }
   ],
   "source": [
    "#Square Function\n",
    "def square(x):\n",
    "    return x**2\n",
    "\n",
    "print(square(3))"
   ]
  },
  {
   "cell_type": "code",
   "execution_count": 19,
   "id": "0a534879",
   "metadata": {},
   "outputs": [
    {
     "name": "stdout",
     "output_type": "stream",
     "text": [
      "hello Rishu\n",
      "('Rishu', 'RishuSharma')\n"
     ]
    }
   ],
   "source": [
    "def greet(name=\"\", last_name=\"\"): # keyword args\n",
    "    print(\"hello\",name)\n",
    "    return name, name + last_name\n",
    "\n",
    "print(greet(\"Rishu\",\"Sharma\"))"
   ]
  },
  {
   "cell_type": "code",
   "execution_count": 20,
   "id": "88039992",
   "metadata": {},
   "outputs": [
    {
     "name": "stdout",
     "output_type": "stream",
     "text": [
      "8\n"
     ]
    }
   ],
   "source": [
    "# lambda function\n",
    "\n",
    "cubed = lambda x: x**3\n",
    "print(cubed(2))"
   ]
  },
  {
   "cell_type": "code",
   "execution_count": 21,
   "id": "75858316",
   "metadata": {},
   "outputs": [
    {
     "name": "stdout",
     "output_type": "stream",
     "text": [
      "args (1, 2, 3)\n",
      "kwargs {'b': 7, 'c': 4}\n"
     ]
    }
   ],
   "source": [
    "# *args and **kwargs are special keyword which allows function to take variable length argument.\n",
    "\n",
    "def print_all(*args,**kwargs):\n",
    "    print(\"args\",args)\n",
    "    print(\"kwargs\", kwargs)\n",
    "print_all(1,2,3,b=7,c=4)"
   ]
  },
  {
   "cell_type": "markdown",
   "id": "97cf072b",
   "metadata": {},
   "source": [
    "Set 13 : BASICS (Classes)"
   ]
  },
  {
   "cell_type": "code",
   "execution_count": 22,
   "id": "bcbe7e91",
   "metadata": {},
   "outputs": [],
   "source": [
    "class Person:\n",
    "    def __init__(self, name, allergies=\"\"):\n",
    "        self.name = name\n",
    "        self.allergies = allergies\n",
    "    def talk(self):\n",
    "        print(\"my name is\", self.name)\n",
    "        if self.allergies != \"\":\n",
    "            print(\"I am allergic to\", self.allergies)"
   ]
  },
  {
   "cell_type": "code",
   "execution_count": 23,
   "id": "fde9753f",
   "metadata": {},
   "outputs": [
    {
     "name": "stdout",
     "output_type": "stream",
     "text": [
      "my name is Antoine\n",
      "I am allergic to Dust\n",
      "my name is Bu\n",
      "I am allergic to meat, plants, water, basically anything\n",
      "my name is Rishu\n",
      "I am allergic to Pollen\n"
     ]
    }
   ],
   "source": [
    "p1 = Person(\"Antine\")\n",
    "p1.name = \"Antoine\"\n",
    "p1.allergies = \"Dust\"\n",
    "p1.talk()\n",
    "\n",
    "p3 = Person(\"Rishu\")\n",
    "p3.allergies = \"Pollen\"\n",
    "p2 = Person(\"Bu\", \"meat, plants, water, basically anything\")\n",
    "p2.talk()\n",
    "p3.talk()\n"
   ]
  },
  {
   "cell_type": "markdown",
   "id": "46f5ebaa",
   "metadata": {},
   "source": [
    "Set 14 : BASICS (Python Libraries)"
   ]
  },
  {
   "cell_type": "code",
   "execution_count": 24,
   "id": "ca520762",
   "metadata": {},
   "outputs": [
    {
     "name": "stdout",
     "output_type": "stream",
     "text": [
      "time.struct_time(tm_year=1970, tm_mon=1, tm_mday=1, tm_hour=0, tm_min=0, tm_sec=0, tm_wday=3, tm_yday=1, tm_isdst=0)\n",
      "52.78266133424391\n",
      "4.0\n",
      "Help on function mean in module numpy:\n",
      "\n",
      "mean(a, axis=None, dtype=None, out=None, keepdims=<no value>, *, where=<no value>)\n",
      "    Compute the arithmetic mean along the specified axis.\n",
      "    \n",
      "    Returns the average of the array elements.  The average is taken over\n",
      "    the flattened array by default, otherwise over the specified axis.\n",
      "    `float64` intermediate and return values are used for integer inputs.\n",
      "    \n",
      "    Parameters\n",
      "    ----------\n",
      "    a : array_like\n",
      "        Array containing numbers whose mean is desired. If `a` is not an\n",
      "        array, a conversion is attempted.\n",
      "    axis : None or int or tuple of ints, optional\n",
      "        Axis or axes along which the means are computed. The default is to\n",
      "        compute the mean of the flattened array.\n",
      "    \n",
      "        .. versionadded:: 1.7.0\n",
      "    \n",
      "        If this is a tuple of ints, a mean is performed over multiple axes,\n",
      "        instead of a single axis or all the axes as before.\n",
      "    dtype : data-type, optional\n",
      "        Type to use in computing the mean.  For integer inputs, the default\n",
      "        is `float64`; for floating point inputs, it is the same as the\n",
      "        input dtype.\n",
      "    out : ndarray, optional\n",
      "        Alternate output array in which to place the result.  The default\n",
      "        is ``None``; if provided, it must have the same shape as the\n",
      "        expected output, but the type will be cast if necessary.\n",
      "        See :ref:`ufuncs-output-type` for more details.\n",
      "    \n",
      "    keepdims : bool, optional\n",
      "        If this is set to True, the axes which are reduced are left\n",
      "        in the result as dimensions with size one. With this option,\n",
      "        the result will broadcast correctly against the input array.\n",
      "    \n",
      "        If the default value is passed, then `keepdims` will not be\n",
      "        passed through to the `mean` method of sub-classes of\n",
      "        `ndarray`, however any non-default value will be.  If the\n",
      "        sub-class' method does not implement `keepdims` any\n",
      "        exceptions will be raised.\n",
      "    \n",
      "    where : array_like of bool, optional\n",
      "        Elements to include in the mean. See `~numpy.ufunc.reduce` for details.\n",
      "    \n",
      "        .. versionadded:: 1.20.0\n",
      "    \n",
      "    Returns\n",
      "    -------\n",
      "    m : ndarray, see dtype parameter above\n",
      "        If `out=None`, returns a new array containing the mean values,\n",
      "        otherwise a reference to the output array is returned.\n",
      "    \n",
      "    See Also\n",
      "    --------\n",
      "    average : Weighted average\n",
      "    std, var, nanmean, nanstd, nanvar\n",
      "    \n",
      "    Notes\n",
      "    -----\n",
      "    The arithmetic mean is the sum of the elements along the axis divided\n",
      "    by the number of elements.\n",
      "    \n",
      "    Note that for floating-point input, the mean is computed using the\n",
      "    same precision the input has.  Depending on the input data, this can\n",
      "    cause the results to be inaccurate, especially for `float32` (see\n",
      "    example below).  Specifying a higher-precision accumulator using the\n",
      "    `dtype` keyword can alleviate this issue.\n",
      "    \n",
      "    By default, `float16` results are computed using `float32` intermediates\n",
      "    for extra precision.\n",
      "    \n",
      "    Examples\n",
      "    --------\n",
      "    >>> a = np.array([[1, 2], [3, 4]])\n",
      "    >>> np.mean(a)\n",
      "    2.5\n",
      "    >>> np.mean(a, axis=0)\n",
      "    array([2., 3.])\n",
      "    >>> np.mean(a, axis=1)\n",
      "    array([1.5, 3.5])\n",
      "    \n",
      "    In single precision, `mean` can be inaccurate:\n",
      "    \n",
      "    >>> a = np.zeros((2, 512*512), dtype=np.float32)\n",
      "    >>> a[0, :] = 1.0\n",
      "    >>> a[1, :] = 0.1\n",
      "    >>> np.mean(a)\n",
      "    0.54999924\n",
      "    \n",
      "    Computing the mean in float64 is more accurate:\n",
      "    \n",
      "    >>> np.mean(a, dtype=np.float64)\n",
      "    0.55000000074505806 # may vary\n",
      "    \n",
      "    Specifying a where argument:\n",
      "    >>> a = np.array([[5, 9, 13], [14, 10, 12], [11, 15, 19]])\n",
      "    >>> np.mean(a)\n",
      "    12.0\n",
      "    >>> np.mean(a, where=[[True], [False], [False]])\n",
      "    9.0\n",
      "\n",
      "None\n"
     ]
    }
   ],
   "source": [
    "# import a library\n",
    "import time\n",
    "print(time.gmtime(0)) #prints the epoch time (start time of the clock)\n",
    "a = time.time() #prints current time\n",
    "b = a/(60*60*24*365) #conversion seconds to number of years since the epoch\n",
    "print(b)\n",
    "\n",
    "# alias\n",
    "import numpy as np\n",
    "x = np.mean([1,2,3,4,5,6,7])\n",
    "print(x)\n",
    "\n",
    "# list the contents of a library\n",
    "# print(dir(np))\n",
    "\n",
    "# ask for help for a certain function or class\n",
    "print(help(np.mean))\n"
   ]
  },
  {
   "cell_type": "markdown",
   "id": "67141588",
   "metadata": {},
   "source": [
    "Set 15 : BASICS (Numpy in Detail)"
   ]
  },
  {
   "cell_type": "code",
   "execution_count": 25,
   "id": "4ca108e7",
   "metadata": {},
   "outputs": [],
   "source": [
    "import numpy as np #you can give any alias of your choice but stick to np as standard practice\n",
    "\n",
    "a = np.array([2,3,4])\n"
   ]
  },
  {
   "cell_type": "code",
   "execution_count": 26,
   "id": "ccc42009",
   "metadata": {},
   "outputs": [
    {
     "name": "stdout",
     "output_type": "stream",
     "text": [
      "[1 2 3]\n",
      "[[1. 2.]\n",
      " [3. 4.]]\n",
      "[0. 0. 0. 0.]\n",
      "[[0. 0. 0. 0.]\n",
      " [0. 0. 0. 0.]\n",
      " [0. 0. 0. 0.]]\n",
      "[[1. 1. 1. 1. 1.]\n",
      " [1. 1. 1. 1. 1.]\n",
      " [1. 1. 1. 1. 1.]\n",
      " [1. 1. 1. 1. 1.]\n",
      " [1. 1. 1. 1. 1.]]\n",
      "[0.   0.25 0.5  0.75 1.  ]\n",
      "[[0.48972485 0.05947421]\n",
      " [0.41787986 0.99362718]]\n",
      "(3,)\n",
      "1\n",
      "3\n",
      "int32\n",
      "(3,)\n",
      "(1, 3)\n"
     ]
    }
   ],
   "source": [
    "# create arrays\n",
    "a = np.array([1,2,3])\n",
    "b = np.array([[1,2],[3,4]], dtype=float)\n",
    "c1 = np.zeros((4)) # create a zeros row-array of size 4\n",
    "c2 = np.zeros((3,4)) # create a zeros array of size 3x4\n",
    "d = np.ones((5,5)) # create a ones array of size 5x5\n",
    "e = np.linspace(0,1,5) # creates an evenly spaced array # array([0. , 0.25, 0.5 , 0.75, 1. ])\n",
    "f = np.random.random((2,2)) # create a 2x2 random array\n",
    "print(a)\n",
    "print(b)\n",
    "print(c1)\n",
    "print(c2)\n",
    "print(d)\n",
    "print(e)\n",
    "print(f)\n",
    "# inspect\n",
    "\n",
    "print(a.shape) # shape of your array\n",
    "print(a.ndim) #number of dimensions\n",
    "print(a.size) # number of elements\n",
    "print(a.dtype) # type of elements\n",
    "\n",
    "array1 = np.array([1,2,3])\n",
    "array2 = np.array([[1,2,3]])\n",
    "\n",
    "print(array1.shape)\n",
    "print(array2.shape)"
   ]
  },
  {
   "cell_type": "markdown",
   "id": "fb9bc9a8",
   "metadata": {},
   "source": [
    "Set 16 : BASICS (Numpy Array Operations)"
   ]
  },
  {
   "cell_type": "code",
   "execution_count": 27,
   "id": "53281291",
   "metadata": {},
   "outputs": [
    {
     "name": "stdout",
     "output_type": "stream",
     "text": [
      "[[ 0.5  1. ]\n",
      " [-2.   0. ]]\n",
      "[[3.5 3. ]\n",
      " [4.  2. ]]\n",
      "[[7 7]\n",
      " [6 6]]\n",
      "[[1.33333333 2.        ]\n",
      " [0.33333333 1.        ]]\n",
      "[[3. 2.]\n",
      " [3. 1.]]\n"
     ]
    }
   ],
   "source": [
    "#some operators\n",
    "a = np.array([[2,2],[1,1]])\n",
    "b = np.array([[1.5,1],[3,1]])\n",
    "\n",
    "c = a - b # substract arrays\n",
    "d = a + b # add arrays\n",
    "e = a + 5 # add a constant\n",
    "f = a / b # divide elements\n",
    "g = a * b # multiply elements\n",
    "\n",
    "print(c)\n",
    "print(d)\n",
    "print(e)\n",
    "print(f)\n",
    "print(g)"
   ]
  },
  {
   "cell_type": "code",
   "execution_count": 28,
   "id": "4849105e",
   "metadata": {},
   "outputs": [
    {
     "name": "stdout",
     "output_type": "stream",
     "text": [
      "[[9.  4. ]\n",
      " [4.5 2. ]]\n",
      "[[7.3890561  7.3890561 ]\n",
      " [2.71828183 2.71828183]]\n",
      "[[1.41421356 1.41421356]\n",
      " [1.         1.        ]]\n",
      "[[0.90929743 0.90929743]\n",
      " [0.84147098 0.84147098]]\n",
      "[[-0.41614684 -0.41614684]\n",
      " [ 0.54030231  0.54030231]]\n",
      "[[0.69314718 0.69314718]\n",
      " [0.         0.        ]]\n",
      "[[False False]\n",
      " [ True  True]]\n"
     ]
    }
   ],
   "source": [
    "#some more functions\n",
    "\n",
    "print(a.dot(b)) # dot product\n",
    "print(np.exp(a)) # exponential\n",
    "print(np.sqrt(a)) # sqrt\n",
    "print(np.sin(a)) # sin\n",
    "print(np.cos(a)) # cos\n",
    "print(np.log(a)) # log\n",
    "\n",
    "h = a < 2 # comparison\n",
    "print(h)"
   ]
  },
  {
   "cell_type": "markdown",
   "id": "ea71bb50",
   "metadata": {},
   "source": [
    "Set 17 : BASICS (Numpy Array Slicing)"
   ]
  },
  {
   "cell_type": "code",
   "execution_count": 29,
   "id": "5cdf3eff",
   "metadata": {},
   "outputs": [
    {
     "name": "stdout",
     "output_type": "stream",
     "text": [
      "[[ 1  2  3  4]\n",
      " [11 12 13 14]\n",
      " [21 22 23 24]\n",
      " [31 32 33 34]]\n",
      "[11 12 13 14]\n",
      "[31 32 33 34]\n",
      "[ 3 13 23 33]\n",
      "[12 22]\n",
      "(2,)\n"
     ]
    }
   ],
   "source": [
    "m = np.array([[1,2,3,4],[11,12,13,14],[21,22,23,24],[31,32,33,34]])\n",
    "print(m)\n",
    "\n",
    "t = m[1]\n",
    "u = m[3,:] # note that the t and u variables both contain whole row\n",
    "v = m[:,2]\n",
    "w = m[1:3,1]\n",
    "\n",
    "print(t)\n",
    "print(u)\n",
    "print(v)\n",
    "print(w)\n",
    "\n",
    "print(w.shape)\n",
    "#notice that all the arrays t,u,v,w are defined as row arrays. Even if the calling is a column."
   ]
  },
  {
   "cell_type": "markdown",
   "id": "adcc5497",
   "metadata": {},
   "source": [
    "Set 18 : BASICS (Pandas in Detail)"
   ]
  },
  {
   "cell_type": "code",
   "execution_count": 30,
   "id": "0da5496c",
   "metadata": {},
   "outputs": [
    {
     "name": "stdout",
     "output_type": "stream",
     "text": [
      "   SNo Strings  Numbers\n",
      "0    0     One        1\n",
      "1    1     Two        2\n",
      "2    2   Three        3\n",
      "Index(['SNo', 'Strings', 'Numbers'], dtype='object')\n",
      "(3, 3)\n",
      "<bound method DataFrame.info of    SNo Strings  Numbers\n",
      "0    0     One        1\n",
      "1    1     Two        2\n",
      "2    2   Three        3>\n"
     ]
    }
   ],
   "source": [
    "# read write\n",
    "import pandas as pd\n",
    "\n",
    "df = pd.read_csv('data.csv')\n",
    "print(df)\n",
    "print(df.columns)\n",
    "print(df.shape)\n",
    "print(df.info)\n",
    "\n",
    "# Other Functions\n",
    "# df.to_csv(\"data_file.csv\")\n",
    "\n",
    "# df_2 = pd.read_excel(\"file.xlsx\")\n",
    "# df_2.to_excel(\"dir/file.xlsx\", sheet_name=\"sheet\")\n",
    "\n",
    "# from sqlalchemy import create_engine\n",
    "# engine = create_engine('sqlite:///foo.db')\n",
    "# df_3 = pd.read_sql_table(\"tableName\", engine)\n",
    "# df_3.to_sql(\"tableName\",engine)\n"
   ]
  },
  {
   "cell_type": "markdown",
   "id": "e8afc2a4",
   "metadata": {},
   "source": [
    "Set 19 : BASICS (Pandas Dataframes in Detail)"
   ]
  },
  {
   "cell_type": "code",
   "execution_count": 31,
   "id": "47d86942",
   "metadata": {},
   "outputs": [
    {
     "name": "stdout",
     "output_type": "stream",
     "text": [
      "   name  age\n",
      "0   tom   10\n",
      "1  pete   15\n",
      "2  jean   30\n",
      "3  puff   35\n",
      "4  pete    5\n",
      "Index(['name', 'age'], dtype='object')\n",
      "(5, 2)\n",
      "<class 'pandas.core.frame.DataFrame'>\n",
      "RangeIndex: 5 entries, 0 to 4\n",
      "Data columns (total 2 columns):\n",
      " #   Column  Non-Null Count  Dtype \n",
      "---  ------  --------------  ----- \n",
      " 0   name    5 non-null      object\n",
      " 1   age     5 non-null      int64 \n",
      "dtypes: int64(1), object(1)\n",
      "memory usage: 208.0+ bytes\n",
      "None\n",
      "  name  age\n",
      "0  tom   10\n",
      "   name  age\n",
      "2  jean   30\n",
      "3  puff   35\n",
      "  name  age\n",
      "0  tom   10\n",
      "   name  age\n",
      "1  pete   15\n",
      "name    jean\n",
      "age       30\n",
      "Name: 2, dtype: object\n",
      "0    10\n",
      "1    15\n",
      "2    30\n",
      "3    35\n",
      "4     5\n",
      "Name: age, dtype: int64\n",
      "1.0\n"
     ]
    }
   ],
   "source": [
    "import pandas as pd\n",
    "data = [[\"tom\",10],[\"pete\",15],[\"jean\",30],[\"puff\",35],[\"pete\",5]]\n",
    "\n",
    "df = pd.DataFrame(data=data, columns=[\"name\",\"age\"])\n",
    "\n",
    "# info\n",
    "print(df)\n",
    "print(df.columns)\n",
    "print(df.shape)\n",
    "print(df.info()) # df.info without () also works\n",
    "\n",
    "# filters\n",
    "print(df[df.name == \"tom\"])\n",
    "print(df[df.age > 15])\n",
    "print(df[df.name == \"tom\"])\n",
    "print(df[(df.age > 10) & (df.name == \"pete\")])\n",
    "\n",
    "print(df.iloc[2]) # by position (row)\n",
    "\n",
    "print(df[df.columns[1]])\n",
    "\n",
    "a = \"1\"\n",
    "print(float(a))"
   ]
  },
  {
   "cell_type": "code",
   "execution_count": 32,
   "id": "ae88233a",
   "metadata": {},
   "outputs": [
    {
     "name": "stdout",
     "output_type": "stream",
     "text": [
      "95\n",
      "0    10\n",
      "1    25\n",
      "2    55\n",
      "3    90\n",
      "4    95\n",
      "Name: age, dtype: int64\n",
      "5\n",
      "35\n",
      "19.0\n",
      "15.0\n",
      "0    11\n",
      "1    16\n",
      "2    31\n",
      "3    36\n",
      "4     6\n",
      "Name: new age, dtype: int64\n",
      "0     Tom\n",
      "1    Pete\n",
      "2    Jean\n",
      "3    Puff\n",
      "4    Pete\n",
      "Name: name, dtype: object\n"
     ]
    }
   ],
   "source": [
    "# operations\n",
    "\n",
    "summ = df[\"age\"].sum()\n",
    "cumsum = df[\"age\"].cumsum()\n",
    "mini = df[\"age\"].min()\n",
    "maxi = df[\"age\"].max()\n",
    "mean = df[\"age\"].mean()\n",
    "median = df[\"age\"].median()\n",
    "\n",
    "print(summ)\n",
    "print(cumsum)\n",
    "print(mini)\n",
    "print(maxi)\n",
    "print(mean)\n",
    "print(median)\n",
    "\n",
    "\n",
    "\n",
    "sum_one = lambda x: x + 1\n",
    "df[\"new age\"] = df[\"age\"].apply(sum_one)\n",
    "print(df[\"new age\"])\n",
    "\n",
    "upper = lambda s: s[0].upper() + s[1:]\n",
    "df[\"name\"] = df[\"name\"].apply(upper)\n",
    "print(df[\"name\"])\n"
   ]
  },
  {
   "cell_type": "markdown",
   "id": "0da3942d",
   "metadata": {},
   "source": [
    "Set 20 : BASICS (matplotlib)"
   ]
  },
  {
   "cell_type": "code",
   "execution_count": 33,
   "id": "d61361f9",
   "metadata": {},
   "outputs": [
    {
     "data": {
      "image/png": "[encoded data removed]",
      "text/plain": [
       "<Figure size 432x288 with 1 Axes>"
      ]
     },
     "metadata": {
      "needs_background": "light"
     },
     "output_type": "display_data"
    }
   ],
   "source": [
    "import matplotlib.pyplot as plt\n",
    "plt.plot([1,5,4,2,5,1,4,5])\n",
    "plt.show()"
   ]
  },
  {
   "cell_type": "code",
   "execution_count": 34,
   "id": "84769462",
   "metadata": {},
   "outputs": [
    {
     "data": {
      "image/png": "[encoded data removed]",
      "text/plain": [
       "<Figure size 432x288 with 1 Axes>"
      ]
     },
     "metadata": {
      "needs_background": "light"
     },
     "output_type": "display_data"
    },
    {
     "data": {
      "image/png": "[encoded data removed]",
      "text/plain": [
       "<Figure size 432x288 with 1 Axes>"
      ]
     },
     "metadata": {
      "needs_background": "light"
     },
     "output_type": "display_data"
    },
    {
     "data": {
      "image/png": "[encoded data removed]",
      "text/plain": [
       "<Figure size 432x288 with 1 Axes>"
      ]
     },
     "metadata": {
      "needs_background": "light"
     },
     "output_type": "display_data"
    }
   ],
   "source": [
    "# plots\n",
    "\n",
    "x = np.linspace(0, 100, 5000) #\n",
    "y = np.random.normal(0, 0.5, 5000) # 0 is mean, 0.5 is standard deviation, 1000 is number of points\n",
    "\n",
    "plt.plot(x)\n",
    "plt.show()\n",
    "\n",
    "plt.scatter(x, y)\n",
    "plt.show()\n",
    "\n",
    "plt.hist(y, bins = 500)\n",
    "plt.show()"
   ]
  },
  {
   "cell_type": "code",
   "execution_count": 35,
   "id": "2a72a6c5",
   "metadata": {},
   "outputs": [
    {
     "data": {
      "image/png": "[encoded data removed]",
      "text/plain": [
       "<Figure size 1080x720 with 4 Axes>"
      ]
     },
     "metadata": {
      "needs_background": "light"
     },
     "output_type": "display_data"
    }
   ],
   "source": [
    "# sub-plots\n",
    "plt.figure(figsize = (15,10))\n",
    "\n",
    "plt.subplot(2,2,1)\n",
    "plt.plot(x)\n",
    "plt.title(\"plot_X\")\n",
    "\n",
    "plt.subplot(2,2,2)\n",
    "plt.plot(y)\n",
    "plt.title(\"plot_Y\")\n",
    "\n",
    "plt.subplot(2,2,3)\n",
    "plt.scatter(x,y)\n",
    "plt.title(\"scatter\")\n",
    "\n",
    "plt.subplot(2,2,4)\n",
    "plt.hist(y, bins = 50)\n",
    "plt.title(\"hist\")\n",
    "\n",
    "plt.show()\n"
   ]
  },
  {
   "cell_type": "markdown",
   "id": "5e6336e5",
   "metadata": {},
   "source": [
    "Set 21 : BASICS (Scikit Learn)"
   ]
  },
  {
   "cell_type": "code",
   "execution_count": 36,
   "id": "7c9a1f9a",
   "metadata": {},
   "outputs": [
    {
     "name": "stdout",
     "output_type": "stream",
     "text": [
      "[4]\n"
     ]
    }
   ],
   "source": [
    "from sklearn import tree\n",
    "\n",
    "X = [[0], [1], [2], [3]]\n",
    "Y = [0, 2, 4, 6]\n",
    "# model\n",
    "clf = tree.DecisionTreeClassifier()\n",
    "clf = clf.fit(X, Y)\n",
    "print(clf.predict([[1.51]])) #gives the closest possible output from Y for the given input 1.51\n"
   ]
  },
  {
   "cell_type": "code",
   "execution_count": null,
   "id": "f81f4f50",
   "metadata": {},
   "outputs": [],
   "source": []
  }
 ],
 "metadata": {
  "kernelspec": {
   "display_name": "Python 3 (ipykernel)",
   "language": "python",
   "name": "python3"
  },
  "language_info": {
   "codemirror_mode": {
    "name": "ipython",
    "version": 3
   },
   "file_extension": ".py",
   "mimetype": "text/x-python",
   "name": "python",
   "nbconvert_exporter": "python",
   "pygments_lexer": "ipython3",
   "version": "3.9.7"
  }
 },
 "nbformat": 4,
 "nbformat_minor": 5
}
